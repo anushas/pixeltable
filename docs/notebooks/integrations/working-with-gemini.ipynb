{
 "cells": [
  {
   "cell_type": "markdown",
   "metadata": {
    "id": "983yjns496tx"
   },
   "source": [
    "[![Kaggle](https://kaggle.com/static/images/open-in-kaggle.svg)](https://kaggle.com/kernels/welcome?src=https://github.com/pixeltable/pixeltable/blob/release/docs/notebooks/integrations/working-with-gemini.ipynb)&nbsp;&nbsp;\n",
    "[![Colab](https://colab.research.google.com/assets/colab-badge.svg)](https://colab.research.google.com/github/pixeltable/pixeltable/blob/release/docs/notebooks/integrations/working-with-gemini.ipynb)&nbsp;&nbsp;\n",
    "<a href=\"https://raw.githubusercontent.com/pixeltable/pixeltable/release/docs/notebooks/integrations/working-with-gemini.ipynb\" download><img src=\"https://img.shields.io/badge/%E2%AC%87-Download%20Notebook-blue\" alt=\"Download Notebook\"></a>\n",
    "\n",
    "# Working with Gemini in Pixeltable\n",
    "\n",
    "Pixeltable's Gemini integration enables you to access the Gemini LLM via the Google Gemini API.\n",
    "\n",
    "### Prerequisites\n",
    "\n",
    "- An Google AI Studio account with an API key (https://aistudio.google.com/app/apikey)\n",
    "\n",
    "### Important Notes\n",
    "\n",
    "- Google AI Studio usage may incur costs based on your plan.\n",
    "- Be mindful of sensitive data and consider security measures when integrating with external services.\n",
    "\n",
    "First you'll need to install required libraries and enter an Google Gemini API key obtaind via Google AI Studio."
   ]
  },
  {
   "cell_type": "code",
   "execution_count": 7,
   "metadata": {
    "colab": {
     "base_uri": "https://localhost:8080/"
    },
    "id": "9pckrD01ik-e",
    "outputId": "060b8b32-48a6-48a0-e720-4eacf94d83ef"
   },
   "outputs": [
    {
     "name": "stdout",
     "output_type": "stream",
     "text": [
      "Note: you may need to restart the kernel to use updated packages.\n"
     ]
    }
   ],
   "source": [
    "%pip install -qU pixeltable google-generativeai"
   ]
  },
  {
   "cell_type": "code",
   "execution_count": 8,
   "metadata": {
    "colab": {
     "base_uri": "https://localhost:8080/"
    },
    "id": "AQ6_Py7_7d0r",
    "outputId": "f82cfe36-be9e-4d43-f13e-9f6f5b680e8e"
   },
   "outputs": [],
   "source": [
    "import os\n",
    "import getpass\n",
    "\n",
    "if 'GEMINI_API_KEY' not in os.environ:\n",
    "    os.environ['GEMINI_API_KEY'] = getpass.getpass('Google AI Studio API Key:')"
   ]
  },
  {
   "cell_type": "markdown",
   "metadata": {},
   "source": [
    "Now let's create a Pixeltable directory to hold the tables for our demo."
   ]
  },
  {
   "cell_type": "code",
   "execution_count": 21,
   "metadata": {
    "colab": {
     "base_uri": "https://localhost:8080/"
    },
    "id": "brtjK-88tTSS",
    "outputId": "55d08c91-438a-4c3e-c217-3cea72faca11"
   },
   "outputs": [
    {
     "name": "stdout",
     "output_type": "stream",
     "text": [
      "Created directory `gemini_demo`.\n"
     ]
    },
    {
     "data": {
      "text/plain": [
       "<pixeltable.catalog.dir.Dir at 0x3556e1bb0>"
      ]
     },
     "execution_count": 21,
     "metadata": {},
     "output_type": "execute_result"
    }
   ],
   "source": [
    "import pixeltable as pxt\n",
    "\n",
    "# Remove the `gemini_demo` directory and its contents, if it exists\n",
    "pxt.drop_dir('gemini_demo', force=True)\n",
    "pxt.create_dir('gemini_demo')"
   ]
  },
  {
   "cell_type": "markdown",
   "metadata": {
    "id": "0kmjJoDq9Oqe"
   },
   "source": [
    "## Generate content\n",
    "\n",
    "Create a Table: In Pixeltable, create a table with columns to represent your input data and the columns where you want to store the results from Gemini."
   ]
  },
  {
   "cell_type": "code",
   "execution_count": 22,
   "metadata": {
    "colab": {
     "base_uri": "https://localhost:8080/"
    },
    "id": "5ti10tXu5m3X",
    "outputId": "30848066-1e9b-4efd-aad7-b2271a031ec3"
   },
   "outputs": [
    {
     "name": "stdout",
     "output_type": "stream",
     "text": [
      "Created table `story`.\n",
      "Added 0 column values with 0 errors.\n",
      "Added 0 column values with 0 errors.\n"
     ]
    },
    {
     "data": {
      "text/plain": [
       "UpdateStatus(num_rows=0, num_computed_values=0, num_excs=0, updated_cols=[], cols_with_excs=[])"
      ]
     },
     "execution_count": 22,
     "metadata": {},
     "output_type": "execute_result"
    }
   ],
   "source": [
    "from pixeltable.functions import gemini\n",
    "\n",
    "# Create a table in Pixeltable and pick a model hosted on Googel AI Studio with some parameters\n",
    "\n",
    "t = pxt.create_table('gemini_demo.story', {'input': pxt.String})\n",
    "\n",
    "t.add_computed_column(output=gemini.generate_content(t.input, model_name='gemini-1.5-flash'))\n",
    "t.add_computed_column(output2=gemini.generate_content(\n",
    "            t.input,\n",
    "            model_name='gemini-1.5-flash',\n",
    "            candidate_count=3,\n",
    "            stop_sequences=['\\n'],\n",
    "            max_output_tokens=300,\n",
    "            temperature=1.0,\n",
    "            top_p=0.95,\n",
    "            top_k=40,\n",
    "            response_mime_type='text/plain',\n",
    "            presence_penalty=0.6,\n",
    "            frequency_penalty=0.6,\n",
    "))"
   ]
  },
  {
   "cell_type": "code",
   "execution_count": 24,
   "metadata": {
    "colab": {
     "base_uri": "https://localhost:8080/",
     "height": 599
    },
    "id": "IkMM7OYb5rQ_",
    "outputId": "8e94af3e-485c-49f2-d7ba-b5490ec83af9"
   },
   "outputs": [
    {
     "name": "stdout",
     "output_type": "stream",
     "text": [
      "Inserting rows into `story`: 2 rows [00:00, 320.73 rows/s]████████| 6/6 [00:10<00:00,  1.83s/ cells]\n",
      "Computing cells: 100%|████████████████████████████████████████████| 6/6 [00:10<00:00,  1.83s/ cells]\n",
      "Inserted 2 rows with 0 errors.\n"
     ]
    },
    {
     "data": {
      "text/plain": [
       "UpdateStatus(num_rows=2, num_computed_values=6, num_excs=0, updated_cols=[], cols_with_excs=[])"
      ]
     },
     "execution_count": 24,
     "metadata": {},
     "output_type": "execute_result"
    }
   ],
   "source": [
    "# Ask Gemini to generate some content based on the input\n",
    "t.insert([{'input': 'Write a story about a magic backpack.'}, \n",
    "           {'input': 'Tell me a science joke.'}])"
   ]
  },
  {
   "cell_type": "code",
   "execution_count": 25,
   "metadata": {},
   "outputs": [
    {
     "name": "stdout",
     "output_type": "stream",
     "text": [
      "Computing cells: 100%|███████████████████████████████████████████| 2/2 [00:00<00:00, 146.48 cells/s]\n",
      "Added 2 column values with 0 errors.\n",
      "Computing cells: 100%|███████████████████████████████████████████| 2/2 [00:00<00:00, 162.96 cells/s]\n",
      "Added 2 column values with 0 errors.\n"
     ]
    },
    {
     "data": {
      "text/html": [
       "<table border=\"1\" class=\"dataframe\">\n",
       "  <thead>\n",
       "    <tr style=\"text-align: right;\">\n",
       "      <th>input</th>\n",
       "      <th>response1</th>\n",
       "      <th>response2</th>\n",
       "    </tr>\n",
       "  </thead>\n",
       "  <tbody>\n",
       "    <tr>\n",
       "      <td>Write a story about a magic backpack.</td>\n",
       "      <td>Elara found the backpack tucked away in the dusty attic of her grandmother&#x27;s house. It wasn&#x27;t particularly remarkable at first glance – faded denim, a single, slightly tarnished brass buckle.  But as she reached for it, a faint shimmer, like heat rising from asphalt, emanated from the worn fabric.\n",
       "\n",
       "Curiosity overriding caution, Elara slung it over her shoulder.  The moment it settled against her back, a jolt, like static electricity, ran through her.  Then, a voice, soft as rustling leaves,  ...... k wasn&#x27;t about material possessions, but about fulfilling her deepest needs – creative inspiration, comfort, and connection.  She understood that true wealth lay not in fame or fortune, but in the richness of her inner life, a life enriched by the mysterious and ever-giving magic of her grandmother&#x27;s old backpack.  And she knew, with a certainty that went beyond words, that the backpack would always be there, a constant source of support, as long as she remained true to herself and her art.</td>\n",
       "      <td>Elara clutched the worn leather straps of the backpack, its aged brass buckles glinting in the afternoon sun. It wasn&#x27;t just any backpack; it was her grandmother&#x27;s, a relic whispered to hold a touch of magic.  Granny Willow, a woman who smelled perpetually of woodsmoke and chamomile, had left it to Elara in her will, along with a single cryptic note: &quot;The pack knows your needs. Trust its wisdom, child.&quot;</td>\n",
       "    </tr>\n",
       "    <tr>\n",
       "      <td>Tell me a science joke.</td>\n",
       "      <td>Why did the white bear dissolve in water?  Because it was polar!</td>\n",
       "      <td>Why did the white bear dissolve in water?  Because it was polar!</td>\n",
       "    </tr>\n",
       "  </tbody>\n",
       "</table>"
      ],
      "text/plain": [
       "                                   input  \\\n",
       "0  Write a story about a magic backpack.   \n",
       "1                Tell me a science joke.   \n",
       "\n",
       "                                           response1  \\\n",
       "0  Elara found the backpack tucked away in the du...   \n",
       "1  Why did the white bear dissolve in water?  Bec...   \n",
       "\n",
       "                                           response2  \n",
       "0  Elara clutched the worn leather straps of the ...  \n",
       "1  Why did the white bear dissolve in water?  Bec...  "
      ]
     },
     "execution_count": 25,
     "metadata": {},
     "output_type": "execute_result"
    }
   ],
   "source": [
    "# Parse the response into a new column\n",
    "t.add_computed_column(response1=t.output['candidates'][0]['content']['parts'][0]['text'])\n",
    "t.add_computed_column(response2=t.output2['candidates'][0]['content']['parts'][0]['text'])\n",
    "t.select(t.input, t.response1, t.response2).show()"
   ]
  },
  {
   "cell_type": "markdown",
   "metadata": {
    "id": "lTtQcjKQAlis"
   },
   "source": [
    "### Learn More\n",
    "\n",
    "To learn more about advanced techniques like RAG operations in Pixeltable, check out the [RAG Operations in Pixeltable](https://pixeltable.readme.io/docs/rag-operations-in-pixeltable) tutorial.\n",
    "\n",
    "If you have any questions, don't hesitate to reach out."
   ]
  }
 ],
 "metadata": {
  "colab": {
   "provenance": []
  },
  "kernelspec": {
   "display_name": "pixeltable",
   "language": "python",
   "name": "pixeltable"
  },
  "language_info": {
   "codemirror_mode": {
    "name": "ipython",
    "version": 3
   },
   "file_extension": ".py",
   "mimetype": "text/x-python",
   "name": "python",
   "nbconvert_exporter": "python",
   "pygments_lexer": "ipython3",
   "version": "3.9.20"
  }
 },
 "nbformat": 4,
 "nbformat_minor": 4
}
