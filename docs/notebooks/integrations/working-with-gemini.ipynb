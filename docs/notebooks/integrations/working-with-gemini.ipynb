{
 "cells": [
  {
   "cell_type": "markdown",
   "metadata": {
    "id": "983yjns496tx"
   },
   "source": [
    "[![Kaggle](https://kaggle.com/static/images/open-in-kaggle.svg)](https://kaggle.com/kernels/welcome?src=https://github.com/pixeltable/pixeltable/blob/release/docs/notebooks/integrations/working-with-anthropic.ipynb)&nbsp;&nbsp;\n",
    "[![Colab](https://colab.research.google.com/assets/colab-badge.svg)](https://colab.research.google.com/github/pixeltable/pixeltable/blob/release/docs/notebooks/integrations/working-with-anthropic.ipynb)&nbsp;&nbsp;\n",
    "<a href=\"https://raw.githubusercontent.com/pixeltable/pixeltable/release/docs/notebooks/integrations/working-with-anthropic.ipynb\" download><img src=\"https://img.shields.io/badge/%E2%AC%87-Download%20Notebook-blue\" alt=\"Download Notebook\"></a>\n",
    "\n",
    "# Working with Gemini in Pixeltable\n",
    "\n",
    "Pixeltable's Gemini integration enables you to access the Gemini LLM via the Google Gemini API.\n",
    "\n",
    "### Prerequisites\n",
    "\n",
    "- An Google AI Studio account with an API key (https://aistudio.google.com/app/apikey)\n",
    "\n",
    "### Important Notes\n",
    "\n",
    "- Google AI Studio usage may incur costs based on your plan.\n",
    "- Be mindful of sensitive data and consider security measures when integrating with external services.\n",
    "\n",
    "First you'll need to install required libraries and enter an Google AI Studio API key."
   ]
  },
  {
   "cell_type": "code",
   "execution_count": null,
   "metadata": {},
   "outputs": [],
   "source": []
  },
  {
   "cell_type": "code",
   "execution_count": 1,
   "metadata": {
    "colab": {
     "base_uri": "https://localhost:8080/"
    },
    "id": "9pckrD01ik-e",
    "outputId": "060b8b32-48a6-48a0-e720-4eacf94d83ef"
   },
   "outputs": [
    {
     "name": "stdout",
     "output_type": "stream",
     "text": [
      "Note: you may need to restart the kernel to use updated packages.\n"
     ]
    }
   ],
   "source": [
    "%pip install -qU google-generativeai"
   ]
  },
  {
   "cell_type": "code",
   "execution_count": 2,
   "metadata": {
    "colab": {
     "base_uri": "https://localhost:8080/"
    },
    "id": "AQ6_Py7_7d0r",
    "outputId": "f82cfe36-be9e-4d43-f13e-9f6f5b680e8e"
   },
   "outputs": [],
   "source": [
    "import os\n",
    "import getpass\n",
    "\n",
    "if 'GEMINI_API_KEY' not in os.environ:\n",
    "    os.environ['GEMINI_API_KEY'] = getpass.getpass('Google AI Studio API Key:')"
   ]
  },
  {
   "cell_type": "markdown",
   "metadata": {},
   "source": [
    "Now let's create a Pixeltable directory to hold the tables for our demo."
   ]
  },
  {
   "cell_type": "code",
   "execution_count": 3,
   "metadata": {
    "colab": {
     "base_uri": "https://localhost:8080/"
    },
    "id": "brtjK-88tTSS",
    "outputId": "55d08c91-438a-4c3e-c217-3cea72faca11"
   },
   "outputs": [
    {
     "name": "stdout",
     "output_type": "stream",
     "text": [
      "Connected to Pixeltable database at: postgresql+psycopg://postgres:@/pixeltable?host=/Users/anushas-pxt/.pixeltable/pgdata\n",
      "Created directory `gemini_demo`.\n"
     ]
    },
    {
     "data": {
      "text/plain": [
       "<pixeltable.catalog.dir.Dir at 0x175e3f5b0>"
      ]
     },
     "execution_count": 3,
     "metadata": {},
     "output_type": "execute_result"
    }
   ],
   "source": [
    "import pixeltable as pxt\n",
    "\n",
    "# Remove the `gemini_demo` directory and its contents, if it exists\n",
    "pxt.drop_dir('gemini_demo', force=True)\n",
    "pxt.create_dir('gemini_demo')"
   ]
  },
  {
   "cell_type": "markdown",
   "metadata": {
    "id": "0kmjJoDq9Oqe"
   },
   "source": [
    "## Messages\n",
    "\n",
    "Create a Table: In Pixeltable, create a table with columns to represent your input data and the columns where you want to store the results from Gemini."
   ]
  },
  {
   "cell_type": "code",
   "execution_count": 4,
   "metadata": {
    "colab": {
     "base_uri": "https://localhost:8080/"
    },
    "id": "5ti10tXu5m3X",
    "outputId": "30848066-1e9b-4efd-aad7-b2271a031ec3"
   },
   "outputs": [
    {
     "name": "stdout",
     "output_type": "stream",
     "text": [
      "Created table `story`.\n",
      "Added 0 column values with 0 errors.\n",
      "Added 0 column values with 0 errors.\n"
     ]
    },
    {
     "data": {
      "text/plain": [
       "UpdateStatus(num_rows=0, num_computed_values=0, num_excs=0, updated_cols=[], cols_with_excs=[])"
      ]
     },
     "execution_count": 4,
     "metadata": {},
     "output_type": "execute_result"
    }
   ],
   "source": [
    "#from pixeltable.functions import gemini\n",
    "from pixeltable.functions.gemini import generate_content\n",
    "\n",
    "# Create a table in Pixeltable and pick a model hosted on Googel AI Studio with some parameters\n",
    "\n",
    "t = pxt.create_table('gemini_demo.story', {'input': pxt.String})\n",
    "\n",
    "t.add_computed_column(output=generate_content(t.input, model_name='gemini-1.5-flash'))\n",
    "t.add_computed_column(output2=generate_content(\n",
    "            t.input,\n",
    "            model_name='gemini-1.5-flash',\n",
    "            candidate_count=3,\n",
    "            stop_sequences=['\\n'],\n",
    "            max_output_tokens=300,\n",
    "            temperature=1.0,\n",
    "            top_p=0.95,\n",
    "            top_k=40,\n",
    "            response_mime_type='text/plain',\n",
    "            presence_penalty=0.6,\n",
    "            frequency_penalty=0.6,\n",
    "))"
   ]
  },
  {
   "cell_type": "code",
   "execution_count": 5,
   "metadata": {
    "colab": {
     "base_uri": "https://localhost:8080/",
     "height": 599
    },
    "id": "IkMM7OYb5rQ_",
    "outputId": "8e94af3e-485c-49f2-d7ba-b5490ec83af9"
   },
   "outputs": [
    {
     "name": "stdout",
     "output_type": "stream",
     "text": [
      "Inserting rows into `story`: 1 rows [00:00, 194.43 rows/s]████████| 3/3 [00:09<00:00,  3.14s/ cells]\n",
      "Computing cells: 100%|████████████████████████████████████████████| 3/3 [00:09<00:00,  3.14s/ cells]\n",
      "Inserted 1 row with 0 errors.\n"
     ]
    },
    {
     "data": {
      "text/html": [
       "<table border=\"1\" class=\"dataframe\">\n",
       "  <thead>\n",
       "    <tr style=\"text-align: right;\">\n",
       "      <th>input</th>\n",
       "      <th>output</th>\n",
       "      <th>output2</th>\n",
       "    </tr>\n",
       "  </thead>\n",
       "  <tbody>\n",
       "    <tr>\n",
       "      <td>Write a story about a magic backpack.</td>\n",
       "      <td>{&quot;candidates&quot;: [{&quot;content&quot;: {&quot;role&quot;: &quot;model&quot;, &quot;parts&quot;: [{&quot;text&quot;: &quot;Elara wasn&#x27;t your typical twelve-year-old. While other kids obsessed over pop stars and TikTok trends, Elara dreamt of forgotten languages and und ...... n imagination, a future as limitless as the magic within her backpack.  And Elara, the girl who dreamt of forgotten lands, finally found her own.\\n&quot;}]}, &quot;token_count&quot;: 0, &quot;avg_logprobs&quot;: -0.551, &quot;finish_reason&quot;: 1, &quot;safety_ratings&quot;: [], &quot;grounding_attributions&quot;: []}], &quot;usage_metadata&quot;: {&quot;total_token_count&quot;: 675, &quot;prompt_token_count&quot;: 9, &quot;candidates_token_count&quot;: 666, &quot;cached_content_token_count&quot;: 0}}</td>\n",
       "      <td>{&quot;candidates&quot;: [{&quot;content&quot;: {&quot;role&quot;: &quot;model&quot;, &quot;parts&quot;: [{&quot;text&quot;: &quot;Elara wasn&#x27;t your typical twelve-year-old. While other kids dreamt of pop stars and ponies, Elara dreamt of undiscovered islands and shimmering wa ...... nstantly hampered by a mundane reality: a cramped apartment and a perpetually broke single mother.  That is, until the day she found the backpack.&quot;}]}, &quot;token_count&quot;: 0, &quot;avg_logprobs&quot;: -1.865, &quot;finish_reason&quot;: 1, &quot;safety_ratings&quot;: [], &quot;grounding_attributions&quot;: []}, {&quot;index&quot;: 1, &quot;content&quot;: {&quot;role&quot;: &quot;model&quot;, &quot;parts&quot;: [{&quot;text&quot;: &quot;Elara wasn&#x27;t your average twelve-year-old. While other kids obsessed over pop stars and video games, Elara dreamt of unexplored jungles and forgot ...... n the verge of ripping.  That is, until her Grandma Elara (yes, they shared a name) gifted her a peculiar, worn leather backpack for her birthday.&quot;}]}, &quot;token_count&quot;: 0, &quot;avg_logprobs&quot;: -1.803, &quot;finish_reason&quot;: 1, &quot;safety_ratings&quot;: [], &quot;grounding_attributions&quot;: []}, {&quot;index&quot;: 2, &quot;content&quot;: {&quot;role&quot;: &quot;model&quot;, &quot;parts&quot;: [{&quot;text&quot;: &quot;Elara wasn&#x27;t exactly popular.  She preferred the company of dusty tomes and whispering wind than giggling girls and boisterous boys.  So, when her ...... ather backpack \\u2013 a thing practically groaning with age \\u2013 Elara wasn\\u2019t surprised.  What *was* surprising was what happened when she zipped it open.&quot;}]}, &quot;token_count&quot;: 0, &quot;avg_logprobs&quot;: -1.852, &quot;finish_reason&quot;: 1, &quot;safety_ratings&quot;: [], &quot;grounding_attributions&quot;: []}], &quot;usage_metadata&quot;: {&quot;total_token_count&quot;: 240, &quot;prompt_token_count&quot;: 9, &quot;candidates_token_count&quot;: 231, &quot;cached_content_token_count&quot;: 0}}</td>\n",
       "    </tr>\n",
       "  </tbody>\n",
       "</table>"
      ],
      "text/plain": [
       "                                   input  \\\n",
       "0  Write a story about a magic backpack.   \n",
       "\n",
       "                                              output  \\\n",
       "0  {'candidates': [{'content': {'role': 'model', ...   \n",
       "\n",
       "                                             output2  \n",
       "0  {'candidates': [{'content': {'role': 'model', ...  "
      ]
     },
     "execution_count": 5,
     "metadata": {},
     "output_type": "execute_result"
    }
   ],
   "source": [
    "# Start a conversation\n",
    "t.insert(input='Write a story about a magic backpack.')\n",
    "t.collect()"
   ]
  },
  {
   "cell_type": "code",
   "execution_count": 6,
   "metadata": {},
   "outputs": [
    {
     "name": "stdout",
     "output_type": "stream",
     "text": [
      "Inserting rows into `story`: 1 rows [00:00, 392.32 rows/s]████████| 3/3 [00:02<00:00,  1.34 cells/s]\n",
      "Computing cells: 100%|████████████████████████████████████████████| 3/3 [00:02<00:00,  1.34 cells/s]\n",
      "Inserted 1 row with 0 errors.\n"
     ]
    },
    {
     "data": {
      "text/html": [
       "<table border=\"1\" class=\"dataframe\">\n",
       "  <thead>\n",
       "    <tr style=\"text-align: right;\">\n",
       "      <th>input</th>\n",
       "      <th>output</th>\n",
       "      <th>output2</th>\n",
       "    </tr>\n",
       "  </thead>\n",
       "  <tbody>\n",
       "    <tr>\n",
       "      <td>Write a story about a magic backpack.</td>\n",
       "      <td>{&quot;candidates&quot;: [{&quot;content&quot;: {&quot;role&quot;: &quot;model&quot;, &quot;parts&quot;: [{&quot;text&quot;: &quot;Elara wasn&#x27;t your typical twelve-year-old. While other kids obsessed over pop stars and TikTok trends, Elara dreamt of forgotten languages and und ...... n imagination, a future as limitless as the magic within her backpack.  And Elara, the girl who dreamt of forgotten lands, finally found her own.\\n&quot;}]}, &quot;token_count&quot;: 0, &quot;avg_logprobs&quot;: -0.551, &quot;finish_reason&quot;: 1, &quot;safety_ratings&quot;: [], &quot;grounding_attributions&quot;: []}], &quot;usage_metadata&quot;: {&quot;total_token_count&quot;: 675, &quot;prompt_token_count&quot;: 9, &quot;candidates_token_count&quot;: 666, &quot;cached_content_token_count&quot;: 0}}</td>\n",
       "      <td>{&quot;candidates&quot;: [{&quot;content&quot;: {&quot;role&quot;: &quot;model&quot;, &quot;parts&quot;: [{&quot;text&quot;: &quot;Elara wasn&#x27;t your typical twelve-year-old. While other kids dreamt of pop stars and ponies, Elara dreamt of undiscovered islands and shimmering wa ...... nstantly hampered by a mundane reality: a cramped apartment and a perpetually broke single mother.  That is, until the day she found the backpack.&quot;}]}, &quot;token_count&quot;: 0, &quot;avg_logprobs&quot;: -1.865, &quot;finish_reason&quot;: 1, &quot;safety_ratings&quot;: [], &quot;grounding_attributions&quot;: []}, {&quot;index&quot;: 1, &quot;content&quot;: {&quot;role&quot;: &quot;model&quot;, &quot;parts&quot;: [{&quot;text&quot;: &quot;Elara wasn&#x27;t your average twelve-year-old. While other kids obsessed over pop stars and video games, Elara dreamt of unexplored jungles and forgot ...... n the verge of ripping.  That is, until her Grandma Elara (yes, they shared a name) gifted her a peculiar, worn leather backpack for her birthday.&quot;}]}, &quot;token_count&quot;: 0, &quot;avg_logprobs&quot;: -1.803, &quot;finish_reason&quot;: 1, &quot;safety_ratings&quot;: [], &quot;grounding_attributions&quot;: []}, {&quot;index&quot;: 2, &quot;content&quot;: {&quot;role&quot;: &quot;model&quot;, &quot;parts&quot;: [{&quot;text&quot;: &quot;Elara wasn&#x27;t exactly popular.  She preferred the company of dusty tomes and whispering wind than giggling girls and boisterous boys.  So, when her ...... ather backpack \\u2013 a thing practically groaning with age \\u2013 Elara wasn\\u2019t surprised.  What *was* surprising was what happened when she zipped it open.&quot;}]}, &quot;token_count&quot;: 0, &quot;avg_logprobs&quot;: -1.852, &quot;finish_reason&quot;: 1, &quot;safety_ratings&quot;: [], &quot;grounding_attributions&quot;: []}], &quot;usage_metadata&quot;: {&quot;total_token_count&quot;: 240, &quot;prompt_token_count&quot;: 9, &quot;candidates_token_count&quot;: 231, &quot;cached_content_token_count&quot;: 0}}</td>\n",
       "    </tr>\n",
       "    <tr>\n",
       "      <td>Tell me a science joke.</td>\n",
       "      <td>{&quot;candidates&quot;: [{&quot;content&quot;: {&quot;role&quot;: &quot;model&quot;, &quot;parts&quot;: [{&quot;text&quot;: &quot;Why did the white bear dissolve in water?  Because it was polar!\\n&quot;}]}, &quot;token_count&quot;: 0, &quot;avg_logprobs&quot;: -0.001, &quot;finish_reason&quot;: 1, &quot;safety_ratings&quot;: [], &quot;grounding_attributions&quot;: []}], &quot;usage_metadata&quot;: {&quot;total_token_count&quot;: 23, &quot;prompt_token_count&quot;: 7, &quot;candidates_token_count&quot;: 16, &quot;cached_content_token_count&quot;: 0}}</td>\n",
       "      <td>{&quot;candidates&quot;: [{&quot;content&quot;: {&quot;role&quot;: &quot;model&quot;, &quot;parts&quot;: [{&quot;text&quot;: &quot;Why did the white bear dissolve in water?  Because it was polar!&quot;}]}, &quot;token_count&quot;: 0, &quot;avg_logprobs&quot;: -0.001, &quot;finish_reason&quot;: 1, &quot;safety_ratings&quot;: [], &quot;grounding_attributions&quot;: []}, {&quot;index&quot;: 1, &quot;content&quot;: {&quot;role&quot;: &quot;model&quot;, &quot;parts&quot;: [{&quot;text&quot;: &quot;Why did the white bear dissolve in water?  Because it was polar!&quot;}]}, &quot;token_count&quot;: 0, &quot;avg_logprobs&quot;: -0.001, &quot;finish_reason&quot;: 1, &quot;safety_ratings&quot;: [], &quot;grounding_attributions&quot;: []}, {&quot;index&quot;: 2, &quot;content&quot;: {&quot;role&quot;: &quot;model&quot;, &quot;parts&quot;: [{&quot;text&quot;: &quot;Why did the white bear dissolve in water?  Because it was polar!&quot;}]}, &quot;token_count&quot;: 0, &quot;avg_logprobs&quot;: -0.001, &quot;finish_reason&quot;: 1, &quot;safety_ratings&quot;: [], &quot;grounding_attributions&quot;: []}], &quot;usage_metadata&quot;: {&quot;total_token_count&quot;: 52, &quot;prompt_token_count&quot;: 7, &quot;candidates_token_count&quot;: 45, &quot;cached_content_token_count&quot;: 0}}</td>\n",
       "    </tr>\n",
       "  </tbody>\n",
       "</table>"
      ],
      "text/plain": [
       "                                   input  \\\n",
       "0  Write a story about a magic backpack.   \n",
       "1                Tell me a science joke.   \n",
       "\n",
       "                                              output  \\\n",
       "0  {'candidates': [{'content': {'role': 'model', ...   \n",
       "1  {'candidates': [{'content': {'role': 'model', ...   \n",
       "\n",
       "                                             output2  \n",
       "0  {'candidates': [{'content': {'role': 'model', ...  \n",
       "1  {'candidates': [{'content': {'role': 'model', ...  "
      ]
     },
     "execution_count": 6,
     "metadata": {},
     "output_type": "execute_result"
    }
   ],
   "source": [
    "# Start a conversation\n",
    "t.insert(input='Tell me a science joke.')\n",
    "t.collect()"
   ]
  },
  {
   "cell_type": "markdown",
   "metadata": {
    "id": "lTtQcjKQAlis"
   },
   "source": [
    "### Learn More\n",
    "\n",
    "To learn more about advanced techniques like RAG operations in Pixeltable, check out the [RAG Operations in Pixeltable](https://pixeltable.readme.io/docs/rag-operations-in-pixeltable) tutorial.\n",
    "\n",
    "If you have any questions, don't hesitate to reach out."
   ]
  }
 ],
 "metadata": {
  "colab": {
   "provenance": []
  },
  "kernelspec": {
   "display_name": "pixeltable",
   "language": "python",
   "name": "pixeltable"
  },
  "language_info": {
   "codemirror_mode": {
    "name": "ipython",
    "version": 3
   },
   "file_extension": ".py",
   "mimetype": "text/x-python",
   "name": "python",
   "nbconvert_exporter": "python",
   "pygments_lexer": "ipython3",
   "version": "3.9.20"
  }
 },
 "nbformat": 4,
 "nbformat_minor": 4
}
